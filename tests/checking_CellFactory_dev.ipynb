{
 "cells": [
  {
   "cell_type": "code",
   "execution_count": 1,
   "metadata": {},
   "outputs": [],
   "source": [
    "import sys\n",
    "import os\n",
    "\n",
    "# Get the directory of the current file\n",
    "try:\n",
    "    current_dir = os.path.dirname(os.path.abspath(__file__))\n",
    "except NameError:\n",
    "    current_dir = os.getcwd()  # Use current working directory in interactive environments\n",
    "\n",
    "# Get the parent directory\n",
    "parent_dir = os.path.dirname(current_dir)\n",
    "\n",
    "# Insert the parent directory into sys.path\n",
    "sys.path.insert(0, parent_dir)\n",
    "\n",
    "from models.mcnp_cell_factory import CellFactory\n"
   ]
  },
  {
   "cell_type": "code",
   "execution_count": 2,
   "metadata": {},
   "outputs": [],
   "source": [
    "test_data = [\n",
    "    (\"999 0 -404:405:408           imp:n=0\", \n",
    "     {\"id\": 999, \"material_id\": 0, \"density\": 0, \"surfaces\": [404, 405, 408], \"importance\": {\"n\": 0}}),\n",
    "    (\"3 0 (-3 1 2):(-2 -1)\", \n",
    "     {\"id\": 3, \"material_id\": 0, \"density\": 0, \"surfaces\": [3, 1, 2, 2, 1], \"importance\": {\"n\": 0}}),\n",
    "    (\"12  81 -2.35 1 -3   -13 12 imp:n=1\", \n",
    "     {\"id\": 12, \"material_id\": 81, \"density\": -2.35, \"surfaces\": [1, 3, 13, 12], \"importance\": {\"n\": 1}}),\n",
    "    (\"11 0 1 -2 imp:n=1\", \n",
    "     {\"id\": 11, \"material_id\": 0, \"density\": 0, \"surfaces\": [1, 2], \"importance\": {\"n\": 1}}),\n",
    "    (\"11 0 1 -2 3 -4\", \n",
    "     {\"id\": 11, \"material_id\": 0, \"density\": 0, \"surfaces\": [1, 2, 3, 4], \"importance\": {}}),\n",
    "    (\"14  81 -2.35 1 -3   -15 14 imp:n =1\", \n",
    "     {\"id\": 14, \"material_id\": 81, \"density\": -2.35, \"surfaces\": [1, 3, 15, 14], \"importance\": {\"n\": 1}}),\n",
    "    (\"23 12   -9.024 (3 -4 101 -102) #2        imp:n =1 u=   4 vol =106.478\", \n",
    "     {\"id\": 23, \"material_id\": 12, \"density\": -9.024, \"surfaces\": [3, 4, 101, 102], \n",
    "      \"importance\": {\"n\": 1}, \"universe\": 4, \"volume\": 106.478}),\n",
    "    (\"24 12   -9.024 (1: -2: 3:-4) #2        imp:n=1 u=4 vol =106.478\", \n",
    "     {\"id\": 24, \"material_id\": 12, \"density\": -9.024, \"surfaces\": [1, 2, 3, 4], \n",
    "      \"importance\": {\"n\": 1}, \"universe\": 4, \"volume\": 106.478})\n",
    "]"
   ]
  },
  {
   "cell_type": "code",
   "execution_count": 3,
   "metadata": {},
   "outputs": [
    {
     "name": "stdout",
     "output_type": "stream",
     "text": [
      "Cell 23: Material ID 12, Surfaces [3, 4, 101, 102], Cells [2], Importance {'n': 1}, data cards {'vol': 106.478, 'u': 4}\n",
      "('-9.024 (3 -4 101 -102) #2', {'vol': '106.478', 'u': '4', 'imp:n': '1'})\n",
      "Cell 999: Material ID 0, Surfaces [404, 405, 408], Importance {'n': 0}, data cards {'vol': None, 'u': None}\n"
     ]
    }
   ],
   "source": [
    "line = test_data[-2][0]\n",
    "import re\n",
    "pattern = re.compile(r'(\\d+)\\s+(\\d+)\\s+(\\S+.*)?')\n",
    "match = pattern.search(line)\n",
    "print(CellFactory.create_from_match(match))\n",
    "print(CellFactory.extract_keywords(match.group(3)))\n",
    "cell = CellFactory.create_from_input_line(test_data[0][0])\n",
    "print(cell)"
   ]
  },
  {
   "cell_type": "markdown",
   "metadata": {},
   "source": [
    "# Testing Surfaces"
   ]
  },
  {
   "cell_type": "code",
   "execution_count": 4,
   "metadata": {},
   "outputs": [],
   "source": [
    "from models.mcnp_input_cards import Surface\n",
    "test_data = [\n",
    "    (\"1 px 0.0\", {\"id\": 1, \"surface_type\": \"px\", \"parameters\": \"0.0\", \"transformation\": None, \"comment\": None}),\n",
    "    (\"2 py 1.0\", {\"id\": 2, \"surface_type\": \"py\", \"parameters\": \"1.0\", \"transformation\": None, \"comment\": None}),\n",
    "    (\"3 pz -1.0\", {\"id\": 3, \"surface_type\": \"pz\", \"parameters\": \"-1.0\", \"transformation\": None, \"comment\": None}),\n",
    "    (\"4 5 px 2.0\", {\"id\": 4, \"surface_type\": \"px\", \"parameters\": \"2.0\", \"transformation\": \"5\", \"comment\": None}),\n",
    "    (\"5 px 3.0 $Test comment\", {\"id\": 5, \"surface_type\": \"px\", \"parameters\": \"3.0\", \"transformation\": None, \"comment\": \"Test comment\"}),\n",
    "]\n"
   ]
  },
  {
   "cell_type": "code",
   "execution_count": 5,
   "metadata": {},
   "outputs": [
    {
     "name": "stdout",
     "output_type": "stream",
     "text": [
      "1\n"
     ]
    }
   ],
   "source": [
    "surface = Surface.create_from_input_line(test_data[0][0])\n",
    "line = test_data[0][0]\n",
    "match = re.search(r'^\\d+', line)\n",
    "print(match.group(0))"
   ]
  },
  {
   "cell_type": "code",
   "execution_count": 6,
   "metadata": {},
   "outputs": [
    {
     "name": "stdout",
     "output_type": "stream",
     "text": [
      "Surface 1: px 0.0 \n"
     ]
    }
   ],
   "source": [
    "print(surface)"
   ]
  }
 ],
 "metadata": {
  "kernelspec": {
   "display_name": "python27",
   "language": "python",
   "name": "python3"
  },
  "language_info": {
   "codemirror_mode": {
    "name": "ipython",
    "version": 2
   },
   "file_extension": ".py",
   "mimetype": "text/x-python",
   "name": "python",
   "nbconvert_exporter": "python",
   "pygments_lexer": "ipython2",
   "version": "2.7.18"
  }
 },
 "nbformat": 4,
 "nbformat_minor": 2
}
